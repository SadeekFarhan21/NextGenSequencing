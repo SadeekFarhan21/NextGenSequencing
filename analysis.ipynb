{
 "cells": [
  {
   "cell_type": "markdown",
   "metadata": {},
   "source": [
    "### What is single-cell sequencing?\n",
    "Single-cell sequencing examines the nucleic acid sequence information from individual cells with optimized next-generation sequencing technologies, providing a higher resolution of cellular differences and a better understanding of the function of an individual cell in the context of its microenvironment.\n",
    "\n",
    "### Benefits of using single-cell sequencing\n",
    "Single-cell sequencing has several advantages, including:\n",
    "\n",
    "1. **High Resolution:** Enables the study of individual cells, providing a detailed understanding of cellular heterogeneity within a population.\n",
    "\n",
    "2. **Precise Insights:** Unravels rare cell types or subpopulations that might be overlooked in traditional bulk sequencing methods.\n",
    "\n",
    "3. **Accurate Profiling:** Allows for accurate characterization of cellular functions, gene expression, and genetic variations at the single-cell level.\n",
    "\n",
    "4. **Dynamic Processes:** Captures dynamic changes within a cell population, providing insights into cellular transitions and responses over time.\n",
    "\n",
    "5. **Clinical Relevance:** Has potential applications in personalized medicine, diagnostics, and understanding disease mechanisms at the individual cell level.\n",
    "\n",
    "6. **Reduced Averaging Effects:** Eliminates the averaging effects seen in bulk sequencing, providing a clearer picture of the diverse molecular landscape within a sample.\n",
    "\n",
    "7. **Cellular Heterogeneity:** Facilitates the identification of subtle differences between seemingly similar cells, enhancing our understanding of complex biological systems.\n",
    "\n",
    "8. **Discovery of Novel Biomarkers:** Unveils new biomarkers and therapeutic targets by uncovering variations in gene expression and genomic profiles within individual cells.\n",
    "\n",
    "\n",
    "### Difference between bulk and single-cell sequencing\n",
    "\n",
    "**Table: Bulk Sequencing vs. Single-Cell Sequencing**\n",
    "\n",
    "| Aspect                            | Bulk Sequencing                                       | Single-Cell Sequencing                                |\n",
    "|-----------------------------------|-------------------------------------------------------|-------------------------------------------------------|\n",
    "| **Resolution**                    | Provides an average from a population of cells         | Captures information at the individual cell level      |\n",
    "| **Heterogeneity**                  | Masks cellular heterogeneity                           | Reveals cellular diversity and rare cell types         |\n",
    "| **Insights into Rare Cells**      | May miss rare cells or variations                      | Enables detection and analysis of rare cells           |\n",
    "| **Dynamic Processes**             | Provides a static snapshot of the entire population    | Captures dynamic changes, tracking cellular responses  |\n",
    "| **Clinical Applications**         | General profiling in large populations                | Applicable to personalized medicine and diagnostics    |\n",
    "\n",
    "**Chart: Bulk vs. Single-Cell Sequencing**\n",
    "\n",
    "```plaintext\n",
    " 100% \n",
    "  90% \n",
    "  80%                         Bulk Sequencing\n",
    "  70% \n",
    "  60% \n",
    "  50% \n",
    "  40%                                   Single-Cell Sequencing\n",
    "  30% \n",
    "  20% \n",
    "  10% \n",
    "   0% \n",
    "```\n",
    "\n",
    "In the chart, you can visualize the emphasis on individual cell resolution in single-cell sequencing compared to the averaged representation in bulk sequencing. This graphical representation helps highlight the differences between the two methods."
   ]
  },
  {
   "cell_type": "markdown",
   "metadata": {},
   "source": [
    "# The Process of Single-cell Sequnecing\n",
    "Single-cell sequencing is a powerful technique used in genomics to study individual cells, providing insights into the genetic information of each cell in a complex biological sample. Here's a simplified explanation of the process:\n",
    "\n",
    "1. **Cell Isolation:**\n",
    "   - Start by collecting a sample of cells from the organism or tissue you're studying. This could be blood, tissue, or any other type of sample.\n",
    "\n",
    "2. **Single-Cell Capture:**\n",
    "   - To study individual cells, you need to isolate them from the rest of the sample. This can be done using various techniques, such as microfluidics or droplet-based methods, to capture and separate each cell.\n",
    "\n",
    "3. **Cell Lysis:**\n",
    "   - Once you have isolated individual cells, you break open (lyse) each cell to release its genetic material (DNA or RNA). This step is essential to access the genetic information inside the cell.\n",
    "\n",
    "4. **Amplification:**\n",
    "   - The genetic material (DNA or RNA) from a single cell is typically very small, so it needs to be amplified or copied to generate enough material for analysis. Polymerase chain reaction (PCR) is often used for this purpose.\n",
    "\n",
    "5. **Library Preparation:**\n",
    "   - The amplified genetic material is then prepared as a library. This involves tagging the genetic material with unique identifiers, allowing you to trace it back to the individual cell it came from during analysis.\n",
    "\n",
    "6. **Sequencing:**\n",
    "   - The prepared libraries are then subjected to high-throughput sequencing machines. These machines read the genetic code of each DNA or RNA fragment, providing a massive amount of data.\n",
    "\n",
    "7. **Data Analysis:**\n",
    "   - The sequencing data is then analyzed computationally. Bioinformatic tools help interpret the data, identifying genes that are active or inactive in each individual cell. Researchers can gain insights into the diversity of cell types, gene expression patterns, and potential differences between cells.\n",
    "\n",
    "8. **Biological Insights:**\n",
    "   - Finally, the results of single-cell sequencing provide a detailed understanding of the heterogeneity within a population of cells. Researchers can discover rare cell types, identify changes in gene expression under different conditions, and gain insights into various biological processes.\n",
    "\n",
    "Single-cell sequencing has revolutionized our ability to study cellular diversity, understand complex biological systems, and uncover new insights into health and disease. It allows scientists to go beyond average measurements and examine the specific characteristics of individual cells within a population."
   ]
  },
  {
   "cell_type": "markdown",
   "metadata": {},
   "source": [
    "### Preparation and Preprocessing"
   ]
  },
  {
   "cell_type": "code",
   "execution_count": 1,
   "metadata": {},
   "outputs": [
    {
     "name": "stderr",
     "output_type": "stream",
     "text": [
      "c:\\Users\\Farhan\\AppData\\Local\\Programs\\Python\\Python311\\Lib\\site-packages\\tqdm\\auto.py:21: TqdmWarning: IProgress not found. Please update jupyter and ipywidgets. See https://ipywidgets.readthedocs.io/en/stable/user_install.html\n",
      "  from .autonotebook import tqdm as notebook_tqdm\n"
     ]
    },
    {
     "name": "stdout",
     "output_type": "stream",
     "text": [
      "WARNING:tensorflow:From c:\\Users\\Farhan\\AppData\\Local\\Programs\\Python\\Python311\\Lib\\site-packages\\keras\\src\\losses.py:2976: The name tf.losses.sparse_softmax_cross_entropy is deprecated. Please use tf.compat.v1.losses.sparse_softmax_cross_entropy instead.\n",
      "\n",
      "scanpy==1.9.6 anndata==0.10.3 umap==0.5.5 numpy==1.26.3 scipy==1.11.4 pandas==2.1.4 scikit-learn==1.3.2 statsmodels==0.14.1 pynndescent==0.5.11\n"
     ]
    }
   ],
   "source": [
    "# import the libraries\n",
    "import numpy as np # linear algebra, matrix manipulation\n",
    "import scanpy as sc # computational biology\n",
    "import pandas as pd # data analysis"
   ]
  },
  {
   "cell_type": "code",
   "execution_count": null,
   "metadata": {},
   "outputs": [],
   "source": [
    "# change the settings for the analysis\n",
    "sc.settings.verbosity = 3\n",
    "sc.logging.print_header()\n",
    "sc.settings.set_figure_params(dpi = 1200, facecolor='white')"
   ]
  },
  {
   "cell_type": "code",
   "execution_count": 2,
   "metadata": {},
   "outputs": [],
   "source": [
    "results_file = 'write/pbmc3k.h5ad'  # the file that will store the analysis results"
   ]
  },
  {
   "cell_type": "code",
   "execution_count": 3,
   "metadata": {},
   "outputs": [
    {
     "name": "stderr",
     "output_type": "stream",
     "text": [
      "c:\\Users\\Farhan\\AppData\\Local\\Programs\\Python\\Python311\\Lib\\site-packages\\anndata\\__init__.py:51: FutureWarning: `anndata.read` is deprecated, use `anndata.read_h5ad` instead. `ad.read` will be removed in mid 2024.\n",
      "  warnings.warn(\n"
     ]
    }
   ],
   "source": [
    "# Reading the data from the file\n",
    "adata = sc.read('data/pbmc3k_raw.h5ad')\n",
    "\n",
    "# Convert AnnData to DataFrame\n",
    "adata_df = adata.to_df()\n",
    "\n",
    "# Save DataFrame to CSV file\n",
    "adata_df.to_csv('data/pbmc3k_raw.csv', index=False)"
   ]
  },
  {
   "cell_type": "code",
   "execution_count": 4,
   "metadata": {},
   "outputs": [],
   "source": [
    "adata.var_names_make_unique()  # this is unnecessary if using `var_names='gene_ids'` in `sc.read_10x_mtx`"
   ]
  },
  {
   "cell_type": "code",
   "execution_count": 5,
   "metadata": {},
   "outputs": [
    {
     "data": {
      "text/plain": [
       "AnnData object with n_obs × n_vars = 2700 × 32738\n",
       "    var: 'gene_ids'"
      ]
     },
     "execution_count": 5,
     "metadata": {},
     "output_type": "execute_result"
    }
   ],
   "source": [
    "adata  # testing the input of the files"
   ]
  }
 ],
 "metadata": {
  "kernelspec": {
   "display_name": "Python 3",
   "language": "python",
   "name": "python3"
  },
  "language_info": {
   "codemirror_mode": {
    "name": "ipython",
    "version": 3
   },
   "file_extension": ".py",
   "mimetype": "text/x-python",
   "name": "python",
   "nbconvert_exporter": "python",
   "pygments_lexer": "ipython3",
   "version": "3.11.6"
  }
 },
 "nbformat": 4,
 "nbformat_minor": 2
}
